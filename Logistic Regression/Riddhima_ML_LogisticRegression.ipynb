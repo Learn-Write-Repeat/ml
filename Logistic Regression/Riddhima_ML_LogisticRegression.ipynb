{
 "cells": [
  {
   "cell_type": "markdown",
   "metadata": {},
   "source": [
    "# Implementation of Logistic Regression \n",
    "\n",
    "### How to Implement Logistic Regression?\n",
    "\n",
    "\n"
   ]
  },
  {
   "cell_type": "markdown",
   "metadata": {},
   "source": [
    "##### Logistic regression is the go-to linear classification algorithm for two-class problems.\n",
    "##### It is easy to implement, easy to understand and gets great results on a wide variety of problems, even when the expectations the method has of your data are violated."
   ]
  },
  {
   "cell_type": "code",
   "execution_count": 1,
   "metadata": {},
   "outputs": [],
   "source": [
    "# Logistic Regression\n",
    "\n",
    "# Importing the libraries\n",
    "\n",
    "import numpy as np\n",
    "import matplotlib.pyplot as plt\n",
    "import pandas as pd\n"
   ]
  },
  {
   "cell_type": "code",
   "execution_count": 2,
   "metadata": {},
   "outputs": [],
   "source": [
    "# Importing the datasets\n",
    "\n",
    "datasets = pd.read_csv('Social_Network_Ads.csv')\n",
    "X = datasets.iloc[:, [2,3]].values\n",
    "Y = datasets.iloc[:, 4].values"
   ]
  },
  {
   "cell_type": "code",
   "execution_count": 3,
   "metadata": {},
   "outputs": [],
   "source": [
    "# Splitting the dataset into the Training set and Test set\n",
    "\n",
    "from sklearn.model_selection import train_test_split\n",
    "X_Train, X_Test, Y_Train, Y_Test = train_test_split(X, Y, test_size = 0.25, random_state = 0)\n"
   ]
  },
  {
   "cell_type": "code",
   "execution_count": 4,
   "metadata": {},
   "outputs": [],
   "source": [
    "# Feature Scaling\n",
    "\n",
    "from sklearn.preprocessing import StandardScaler\n",
    "sc_X = StandardScaler()\n",
    "X_Train = sc_X.fit_transform(X_Train)\n",
    "X_Test = sc_X.transform(X_Test)\n"
   ]
  },
  {
   "cell_type": "markdown",
   "metadata": {},
   "source": [
    "### Import Logistic Regression from sklearn"
   ]
  },
  {
   "cell_type": "code",
   "execution_count": 5,
   "metadata": {},
   "outputs": [
    {
     "name": "stderr",
     "output_type": "stream",
     "text": [
      "C:\\Users\\hp\\Anaconda3\\lib\\site-packages\\sklearn\\linear_model\\logistic.py:432: FutureWarning: Default solver will be changed to 'lbfgs' in 0.22. Specify a solver to silence this warning.\n",
      "  FutureWarning)\n"
     ]
    },
    {
     "data": {
      "text/plain": [
       "LogisticRegression(C=1.0, class_weight=None, dual=False, fit_intercept=True,\n",
       "                   intercept_scaling=1, l1_ratio=None, max_iter=100,\n",
       "                   multi_class='warn', n_jobs=None, penalty='l2',\n",
       "                   random_state=0, solver='warn', tol=0.0001, verbose=0,\n",
       "                   warm_start=False)"
      ]
     },
     "execution_count": 5,
     "metadata": {},
     "output_type": "execute_result"
    }
   ],
   "source": [
    "# Fitting the Logistic Regression into the Training set\n",
    "\n",
    "from sklearn.linear_model import LogisticRegression\n",
    "classifier = LogisticRegression(random_state = 0)\n",
    "classifier.fit(X_Train, Y_Train)"
   ]
  },
  {
   "cell_type": "code",
   "execution_count": 6,
   "metadata": {},
   "outputs": [],
   "source": [
    "# Predicting the test set results\n",
    "\n",
    "Y_Pred = classifier.predict(X_Test)\n"
   ]
  },
  {
   "cell_type": "code",
   "execution_count": 7,
   "metadata": {},
   "outputs": [],
   "source": [
    "# Making the Confusion Matrix \n",
    "\n",
    "from sklearn.metrics import confusion_matrix\n",
    "cm = confusion_matrix(Y_Test, Y_Pred)"
   ]
  },
  {
   "cell_type": "code",
   "execution_count": 8,
   "metadata": {},
   "outputs": [
    {
     "data": {
      "text/plain": [
       "(-2.5825424477554764, 3.3274575522443977)"
      ]
     },
     "execution_count": 8,
     "metadata": {},
     "output_type": "execute_result"
    },
    {
     "data": {
      "image/png": "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\n",
      "text/plain": [
       "<Figure size 432x288 with 1 Axes>"
      ]
     },
     "metadata": {
      "needs_background": "light"
     },
     "output_type": "display_data"
    }
   ],
   "source": [
    "# Visualising the Training set results \n",
    "\n",
    "from matplotlib.colors import ListedColormap\n",
    "X_Set, Y_Set = X_Train, Y_Train\n",
    "X1, X2 = np.meshgrid(np.arange(start = X_Set[:,0].min() -1, stop = X_Set[:, 0].max() +1, step = 0.01),\n",
    "                     np.arange(start = X_Set[:,1].min() -1, stop = X_Set[:, 1].max() +1, step = 0.01))\n",
    "\n",
    "plt.contourf(X1,X2, classifier.predict(np.array([X1.ravel(), X2.ravel()]).T).reshape(X1.shape),\n",
    "             alpha = 0.75, cmap = ListedColormap(('red', 'green')))\n",
    "\n",
    "plt.xlim(X1.min(), X2.max())\n",
    "plt.ylim(X2.min(), X2.max())"
   ]
  },
  {
   "cell_type": "code",
   "execution_count": 17,
   "metadata": {},
   "outputs": [
    {
     "name": "stderr",
     "output_type": "stream",
     "text": [
      "'c' argument looks like a single numeric RGB or RGBA sequence, which should be avoided as value-mapping will have precedence in case its length matches with 'x' & 'y'.  Please use a 2-D array with a single row if you really want to specify the same RGB or RGBA value for all points.\n",
      "'c' argument looks like a single numeric RGB or RGBA sequence, which should be avoided as value-mapping will have precedence in case its length matches with 'x' & 'y'.  Please use a 2-D array with a single row if you really want to specify the same RGB or RGBA value for all points.\n"
     ]
    },
    
     "metadata": {
      "needs_background": "light"
     },
     "output_type": "display_data"
    }
   ],
   "source": [
    "for i, j in enumerate(np.unique(Y_Set)):\n",
    "    plt.scatter(X_Set[Y_Set == j, 0], X_Set[Y_Set == j,1],c = ListedColormap(('red', 'green'))(i), label = j)\n",
    "    \n",
   
    "### Now let us name this plot as Logistic Regression and the x axis is labeled as Age and y-axis will display and labeled as Estimated Salary"
    "### Here, we represent 0 with red coloured dots and 1 with green coloured dots."
   
    
    "plt.title('Logistic Regression ( Training set)')\n",
    "plt.xlabel('Age')\n",
    "plt.ylabel('Estimated Salary')\n",
    "plt.legend()\n",
    "plt.show()"
   ]
  },
  {
   "cell_type": "markdown",
   "metadata": {},
   "source": [
    "### This is how we implement Logistic Regression and predict the outcome for the dependent variable."
   ]
  }
 ],
 "metadata": {
  "kernelspec": {
   "display_name": "Python 3",
   "language": "python",
   "name": "python3"
  },
  "language_info": {
   "codemirror_mode": {
    "name": "ipython",
    "version": 3
   },
   "file_extension": ".py",
   "mimetype": "text/x-python",
   "name": "python",
   "nbconvert_exporter": "python",
   "pygments_lexer": "ipython3",
   "version": "3.7.4"
  }
 },
 "nbformat": 4,
 "nbformat_minor": 2
}